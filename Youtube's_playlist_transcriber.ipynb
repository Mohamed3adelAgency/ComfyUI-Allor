{
  "nbformat": 4,
  "nbformat_minor": 0,
  "metadata": {
    "colab": {
      "provenance": [],
      "include_colab_link": true
    },
    "kernelspec": {
      "name": "python3",
      "display_name": "Python 3"
    },
    "language_info": {
      "name": "python"
    }
  },
  "cells": [
    {
      "cell_type": "markdown",
      "metadata": {
        "id": "view-in-github",
        "colab_type": "text"
      },
      "source": [
        "<a href=\"https://colab.research.google.com/github/Mohamed3adelAgency/ComfyUI-Allor/blob/main/Youtube's_playlist_transcriber.ipynb\" target=\"_parent\"><img src=\"https://colab.research.google.com/assets/colab-badge.svg\" alt=\"Open In Colab\"/></a>"
      ]
    },
    {
      "cell_type": "code",
      "source": [
        "#import libraries\n",
        "from pytube import Playlist\n",
        "\n",
        "# Update according to the URL of your YouTube playlist\n",
        "playlist_url = 'https://www.youtube.com/watch?v=sx0yyQqkpqo&list=PLbFrQnW0BNMUkAFj4MjYauXBPtO3I9O_k'\n",
        "\n",
        "playlist = Playlist(playlist_url)\n",
        "\n",
        "video_names = []\n",
        "\n",
        "for i, video_url in enumerate(playlist.video_urls, start=1):\n",
        "    video = playlist.videos[i - 1]\n",
        "    video_names.append(video.title)\n",
        "    print(f\"{i}. {video.title}\")\n",
        "\n",
        "# Print the name of all the videos in the playlist\n",
        "with open(\"video_names.txt\", \"w\", encoding=\"utf-8\") as file:\n",
        "    file.write(\"\\n\".join(video_names))"
      ],
      "metadata": {
        "colab": {
          "base_uri": "https://localhost:8080/"
        },
        "id": "Lg78d2il12zm",
        "outputId": "36d3a5e4-52ba-45d1-8dcb-4a601af6485f"
      },
      "execution_count": null,
      "outputs": [
        {
          "output_type": "stream",
          "name": "stdout",
          "text": [
            "1. Billy Go’s Beginner Korean Course | #1: Course Introduction\n",
            "2. Billy Go’s Beginner Korean Course | #2: Intro to 한글\n",
            "3. Billy Go’s Beginner Korean Course | #3: Learning 한글 Part 1 The First Letters\n",
            "4. Billy Go’s Beginner Korean Course | #4: Learning 한글 Part 2 New Kinds of Syllables\n",
            "5. Billy Go’s Beginner Korean Course | #5: Learning 한글 Part 3 More Vowels\n",
            "6. Billy Go’s Beginner Korean Course | #6: Learning 한글 Part 4 More Syllables\n",
            "7. Billy Go’s Beginner Korean Course | #7: Learning 한글 Part 5 Double and Strong Consonants\n",
            "8. Billy Go’s Beginner Korean Course | #8: Learning 한글 Part 6 Diphthongs\n",
            "9. Billy Go’s Beginner Korean Course | #9: Sound Change Rules for 한글\n",
            "10. Billy Go’s Beginner Korean Course | #10: Hello and Goodbye\n",
            "11. Billy Go’s Beginner Korean Course | #11: Introducing Yourself\n",
            "12. Billy Go’s Beginner Korean Course | #12: Saying Thanks\n",
            "13. Billy Go’s Beginner Korean Course | #13: Excuse Me\n",
            "14. Billy Go’s Beginner Korean Course | #14: Intro to Verbs\n",
            "15. Billy Go’s Beginner Korean Course | #15: I Want\n",
            "16. Billy Go’s Beginner Korean Course | #16: The Object Marker\n",
            "17. Billy Go’s Beginner Korean Course | #17: The Topic Marker\n",
            "18. Billy Go’s Beginner Korean Course | #18: This and That\n",
            "19. Billy Go’s Beginner Korean Course | #19: The Particle 도\n",
            "20. Billy Go’s Beginner Korean Course | #20: Intro to Conjugation\n",
            "21. Billy Go’s Beginner Korean Course | #21: Likes and Dislikes\n",
            "22. Billy Go’s Beginner Korean Course | #22: Going Places\n",
            "23. Billy Go’s Beginner Korean Course | #23: The Verb 하다\n",
            "24. Billy Go’s Beginner Korean Course | #24: Intro to Adverbs\n",
            "25. Billy Go’s Beginner Korean Course | #25: Descriptive Verbs\n",
            "26. Billy Go’s Beginner Korean Course | #26: The Subject Marker\n",
            "27. Billy Go’s Beginner Korean Course | #27: Plural Nouns\n",
            "28. Billy Go’s Beginner Korean Course | #28: The Particle 만\n",
            "29. Billy Go’s Beginner Korean Course | #29: Can and Can’t\n",
            "30. Billy Go’s Beginner Korean Course | #30: Saying Sorry\n",
            "31. Billy Go’s Beginner Korean Course | #31: Saying Please\n",
            "32. Billy Go’s Beginner Korean Course | #32: Asking Favors Part 1\n",
            "33. Billy Go’s Beginner Korean Course | #33: Asking Favors Part 2\n",
            "34. Billy Go’s Beginner Korean Course | #34: The Particle 의\n",
            "35. Billy Go’s Beginner Korean Course | #35: Family Tree\n",
            "36. Billy Go’s Beginner Korean Course | #36: Here and There\n",
            "37. Billy Go’s Beginner Korean Course | #37: And\n",
            "38. Billy Go’s Beginner Korean Course | #38: But\n",
            "39. Billy Go’s Beginner Korean Course | #39: Asking Questions\n",
            "40. Billy Go’s Beginner Korean Course | #40: How to Say ‘You’\n",
            "41. Billy Go’s Beginner Korean Course | #41: Intro to Politeness Levels\n",
            "42. Billy Go’s Beginner Korean Course | #42: The Past Tense\n",
            "43. Billy Go’s Beginner Korean Course | #43: The Future Tense\n",
            "44. Billy Go’s Beginner Korean Course | #44: Question Words\n",
            "45. Billy Go’s Beginner Korean Course | #45: The Particle 에서\n",
            "46. Billy Go’s Beginner Korean Course | #46: Making Negative Sentences\n",
            "47. Billy Go’s Beginner Korean Course | #47: Going to Do It\n",
            "48. Billy Go’s Beginner Korean Course | #48: To and From\n",
            "49. Billy Go’s Beginner Korean Course | #49: Humble Speech\n",
            "50. Billy Go’s Beginner Korean Course | #50: Together\n",
            "51. Billy Go’s Beginner Korean Course | #51: Making Suggestion\n",
            "52. Billy Go’s Beginner Korean Course | #52: The Progressive Tense\n",
            "53. Billy Go’s Beginner Korean Course | #53: I Have\n",
            "54. Billy Go’s Beginner Korean Course | #54: How Are You?\n",
            "55. Billy Go’s Beginner Korean Course | #55: Comparisons\n",
            "56. Billy Go’s Beginner Korean Course | #56: Asking for Clarification\n",
            "57. Billy Go’s Beginner Korean Course | #57: Describing Everything\n",
            "58. Billy Go’s Beginner Korean Course | #58: Asking Permission\n",
            "59. Billy Go’s Beginner Korean Course | #59: Colors\n",
            "60. Billy Go’s Beginner Korean Course | #60: Location Words\n",
            "61. Billy Go’s Beginner Korean Course | #61: Counting Part 1\n",
            "62. Billy Go’s Beginner Korean Course | #62: Counting Part 2\n",
            "63. Billy Go’s Beginner Korean Course | #63: Counting Everything\n",
            "64. Billy Go’s Beginner Korean Course | #64: Time and Date\n",
            "65. Billy Go’s Beginner Korean Course | #65: Only 밖에\n",
            "66. Billy Go’s Beginner Korean Course | #66: Becoming Something\n",
            "67. Billy Go’s Beginner Korean Course | #67: Toward\n",
            "68. Billy Go’s Beginner Korean Course | #68: Using Things\n",
            "69. Billy Go’s Beginner Korean Course | #69: Describing Verbs\n",
            "70. Billy Go’s Beginner Korean Course | #70: Giving a Reason Part 1\n",
            "71. Billy Go’s Beginner Korean Course | #71: Giving a Reason Part 2\n",
            "72. Billy Go’s Beginner Korean Course | #72: Showing Contrast\n",
            "73. Billy Go’s Beginner Korean Course | #73: If and When\n",
            "74. Billy Go’s Beginner Korean Course | #74: Could It Be?\n",
            "75. Billy Go’s Beginner Korean Course | #75: Before and After\n",
            "76. Billy Go’s Beginner Korean Course | #76: Speaking With Friends\n",
            "77. Billy Go’s Beginner Korean Course | #77: This or That\n",
            "78. Billy Go’s Beginner Korean Course | #78: Don’t Do It\n",
            "79. Billy Go’s Beginner Korean Course | #79: Formal Korean\n",
            "80. Billy Go’s Beginner Korean Course | #80: Hoping and Wishing\n",
            "81. Billy Go’s Beginner Korean Course | #81: Cannot\n",
            "82. Billy Go’s Beginner Korean Course | #82: Making Adverbs\n",
            "83. Billy Go’s Beginner Korean Course | #83: Give It a Try\n",
            "84. Billy Go’s Beginner Korean Course | #84: Adding More Emotion\n",
            "85. Billy Go’s Beginner Korean Course | #85: Have You Ever?\n",
            "86. Billy Go’s Beginner Korean Course | #86: The Plain Form\n",
            "87. Billy Go’s Beginner Korean Course | #87: I Said Something\n",
            "88. Billy Go’s Beginner Korean Course | #88: Doing Favors\n",
            "89. Billy Go’s Beginner Korean Course | #89: I Think So\n",
            "90. Billy Go’s Beginner Korean Course | #90: Thinking More\n",
            "91. Billy Go’s Beginner Korean Course | #91: I Have To\n",
            "92. Billy Go’s Beginner Korean Course | #92: It’s For You\n",
            "93. Billy Go’s Beginner Korean Course | #93: I’m Going To\n",
            "94. Billy Go’s Beginner Korean Course | #94: Two Things at Once Part 1\n",
            "95. Billy Go’s Beginner Korean Course | #95: Two Things at Once Part 2\n",
            "96. Billy Go’s Beginner Korean Course | #96: I Want To\n",
            "97. Billy Go’s Beginner Korean Course | #97: Making a Phone Call\n",
            "98. Billy Go’s Beginner Korean Course | #98: At the Restaurant\n",
            "99. Billy Go’s Beginner Korean Course | #99: Going Shopping\n",
            "100. Billy Go’s Beginner Korean Course | #100: Finding Your Way\n"
          ]
        }
      ]
    }
  ]
}